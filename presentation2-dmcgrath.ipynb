{
 "cells": [
  {
   "cell_type": "markdown",
   "metadata": {
    "collapsed": false
   },
   "source": [
    "## MATH 157\n",
    "# Post-Quantum Cryptography Pt. II\n",
    "## By Delia McGrath"
   ]
  },
  {
   "cell_type": "markdown",
   "metadata": {
    "collapsed": false
   },
   "source": [
    "Sources: \n",
    "- https://defeo.lu/docet/assets/slides/2019-11-28-ntnu.pdf\n",
    "- https://csrc.nist.gov/CSRC/media/Events/Second-PQC-Standardization-Conference/documents/accepted-papers/soukharev-pqdh-paper.pdf\n",
    "- https://math.mit.edu/~drew/MITUMA2018.pdf\n",
    "- https://eprint.iacr.org/2019/1321.pdf\n",
    "- https://link.springer.com/content/pdf/10.1007/s11425-010-0053-3.pdf"
   ]
  },
  {
   "cell_type": "markdown",
   "metadata": {
    "collapsed": false
   },
   "source": [
    "## Isogeny cryptography"
   ]
  },
  {
   "cell_type": "markdown",
   "metadata": {
    "collapsed": false
   },
   "source": [
    "Before going into the details of isogeny, let's look at it in comparison to other post-quantum cryptographies.\n",
    "\n",
    "<img src=\"KeySize.png\" alt=\"keysize\" width=\"300\"/>\n",
    "\n",
    "<img src=\"EncryptionPerformance.png\" alt=\"encrypt\" width=\"300\"/>\n",
    "\n",
    "The bar-graphs above show a surprising amount of encryption performance for isogenies, despite the size of their public keys. This is something to keep in mind as people look where to spend their time studying to be most successful in post-modern cryptography."
   ]
  },
  {
   "cell_type": "markdown",
   "metadata": {
    "collapsed": false
   },
   "source": [
    "### Isogeny\n",
    "\n",
    "What is it exactly?\n",
    "\n",
    "$$\\phi : P \\rarr \\phi(P)$$\n",
    "\n",
    "A non-constant function, defined on an elliptic curve, that takes values on another elliptic curve and preserves point addition. (thus preserving elliptic structure)\n",
    "\n",
    "Important to remember that elliptic curves have Group Law.\n",
    "Group law: Three points on the line sum to zero."
   ]
  },
  {
   "cell_type": "markdown",
   "metadata": {
    "collapsed": false
   },
   "source": [
    "#### SIDH\n",
    "\n",
    "form of post-quantum Diffie-Hellman key agreement using isogenies\n",
    "\n",
    "\n",
    "Every elliptic curve has a unique j invariant. We can think of this like a subset with multiple groupings.\n",
    "\n",
    "\n",
    "SIDH works with prime fields where p = 3mod4 (for this example) \n",
    "\n",
    "This is often represented as $$F_{p^2} = F_p(i)$$ with $$i^2 + 1 = 0$$\n",
    "\n",
    "Thus we are interested in the subset of p/12 +z, where z will depend on p mod 12\n",
    "We'll have an element p that will have a subset of j-invariants\n"
   ]
  },
  {
   "cell_type": "code",
   "execution_count": 26,
   "metadata": {
    "collapsed": false
   },
   "outputs": [
    {
     "data": {
      "text/plain": [
       "431"
      ]
     },
     "execution_count": 26,
     "metadata": {
     },
     "output_type": "execute_result"
    }
   ],
   "source": [
    "#we'll use a small p for our example\n",
    "p = 431"
   ]
  },
  {
   "cell_type": "code",
   "execution_count": 25,
   "metadata": {
    "collapsed": false
   },
   "outputs": [
    {
     "data": {
      "text/plain": [
       "37.0"
      ]
     },
     "execution_count": 25,
     "metadata": {
     },
     "output_type": "execute_result"
    }
   ],
   "source": [
    "ss = floor(p/12 + 2) #we'll floor this because we want a whole number for our invariant"
   ]
  },
  {
   "cell_type": "markdown",
   "metadata": {
    "collapsed": false
   },
   "source": [
    "<img src=\"SupersingularVariants.png\" alt=\"pqdh\" width=\"500\"/>"
   ]
  },
  {
   "cell_type": "markdown",
   "metadata": {
    "collapsed": false
   },
   "source": [
    "()\n",
    "Simply put, Alice and Bob will start out on 87i + 190 (the blue circle)\n",
    "\n",
    "Alice will then a key() that will move her around the 37 integers until she arrives at 22i + 118 (green j-invariant) which will be the public key she sends to Bob\n",
    "\n",
    "Bob will do the same, but instead will arrive at 334i +190 (yellow j-invariant) and that will be his public key he sends to Alice\n",
    "\n",
    "When Alice combines her secret integer with Bob's key, she'll do a sequence of moves that will land her on the 234 (red j-invariant). This is the shared secret key $$g^{ab} = g^{ba}$$\n",
    "\n",
    "And thus this is the simplified steps of what's going on in this post-quantum key exchange"
   ]
  },
  {
   "cell_type": "code",
   "execution_count": 2,
   "metadata": {
    "collapsed": false
   },
   "outputs": [
   ],
   "source": [
    "using SymPy"
   ]
  },
  {
   "cell_type": "code",
   "execution_count": 17,
   "metadata": {
    "collapsed": false
   },
   "outputs": [
    {
     "data": {
      "text/latex": [
       "$\\left[ \\begin{array}{r}20 i + 185\\\\281 i + 239\\end{array} \\right]$\n"
      ],
      "text/plain": [
       "2-element Vector{Sym}:\n",
       "  20⋅i + 185\n",
       " 281⋅i + 239"
      ]
     },
     "execution_count": 17,
     "metadata": {
     },
     "output_type": "execute_result"
    }
   ],
   "source": [
    "i = symbols(\"i\")\n",
    "Pa = [100i + 248, 304i + 199]\n",
    "Qa = [426i + 394, 51i + 79]\n",
    "\n",
    "Pb = [358i + 275, 410i + 104]\n",
    "Qb = [20i + 185, 281i + 239]"
   ]
  },
  {
   "cell_type": "code",
   "execution_count": 18,
   "metadata": {
    "collapsed": false
   },
   "outputs": [
    {
     "data": {
      "text/latex": [
       "$\\left[ \\begin{array}{r}1426 i + 2874\\\\3091 i + 2069\\end{array} \\right]$\n"
      ],
      "text/plain": [
       "2-element Vector{Sym}:\n",
       " 1426⋅i + 2874\n",
       " 3091⋅i + 2069"
      ]
     },
     "execution_count": 18,
     "metadata": {
     },
     "output_type": "execute_result"
    }
   ],
   "source": [
    "#Alice generates a key picking a number {0... 15}\n",
    "ka = 10\n",
    "Sa = Pa.*ka + Qa; Sa"
   ]
  },
  {
   "cell_type": "code",
   "execution_count": 34,
   "metadata": {
    "collapsed": false
   },
   "outputs": [
    {
     "data": {
      "text/latex": [
       "$\\left[ \\begin{array}{r}1094 i + 1010\\\\1511 i + 551\\end{array} \\right]$\n"
      ],
      "text/plain": [
       "2-element Vector{Sym}:\n",
       " 1094⋅i + 1010\n",
       "  1511⋅i + 551"
      ]
     },
     "execution_count": 34,
     "metadata": {
     },
     "output_type": "execute_result"
    }
   ],
   "source": [
    "#Bob generates a key picks a number {0... 26}\n",
    "kb = 3\n",
    "Sb = Pb.*kb + Qb"
   ]
  },
  {
   "cell_type": "markdown",
   "metadata": {
    "collapsed": false
   },
   "source": [
    "Alice's would then create a secret generator corresponding to her key:\n",
    "\n",
    "$$S_A = \\phi_B(P_A) + [k_A]\\phi_B(Q_A)$$\n",
    "\n",
    "While Bob's would be\n",
    "\n",
    "$$S_B = \\phi_A(P_B) + [k_B]\\phi_B(Q_B)$$"
   ]
  },
  {
   "cell_type": "markdown",
   "metadata": {
    "collapsed": false
   },
   "source": [
    "<img src=\"pqdh.png\" alt=\"pqdh\" width=\"500\"/>\n",
    "\n",
    "Where\n",
    "\n",
    "- densely dotted edges are representative of secret isogenies of one party\n",
    "- loosely dashed edges are representative of  secret isogenies of the other party\n",
    "- red curves are the common derived secret used for the common secret key\n",
    "- yellow edges and curves are possible to compute but are not computed/used"
   ]
  },
  {
   "cell_type": "markdown",
   "metadata": {
    "collapsed": false
   },
   "source": [
    "### Security of SIDH\n",
    "Classical*: claw finding $$ O(p^{1/4})$$\n",
    "Classical: vOW $$ \\frac{1}{\\sqrt{m}}* p^{3/8}$$\n",
    "where m is the number of processors run in parallel\n",
    "\n",
    "Quantum*: $$O(p^{1/6})$$"
   ]
  },
  {
   "cell_type": "code",
   "execution_count": 20,
   "metadata": {
    "collapsed": false
   },
   "outputs": [
    {
     "data": {
      "text/plain": [
       "7067388259113537318333190002971674063309935587502475832486424805170479104"
      ]
     },
     "execution_count": 20,
     "metadata": {
     },
     "output_type": "execute_result"
    }
   ],
   "source": [
    "#Let's first look at what the computation for this will get us\n",
    "p = BigInt(2)^242\n",
    "p"
   ]
  },
  {
   "cell_type": "code",
   "execution_count": 21,
   "metadata": {
    "collapsed": false
   },
   "outputs": [
    {
     "data": {
      "text/plain": [
       "1.630477228166597776543696475781563546110409536199107322341509459566896039850323e+18"
      ]
     },
     "execution_count": 21,
     "metadata": {
     },
     "output_type": "execute_result"
    }
   ],
   "source": [
    "c1 = p^.25"
   ]
  },
  {
   "cell_type": "markdown",
   "metadata": {
    "collapsed": false
   },
   "source": [
    "if we're not sure a normal number of parallel processors, lets solve to see how many we might be abble to expect"
   ]
  },
  {
   "cell_type": "code",
   "execution_count": 25,
   "metadata": {
    "collapsed": false
   },
   "outputs": [
   ],
   "source": [
    "using SymPy"
   ]
  },
  {
   "cell_type": "code",
   "execution_count": 26,
   "metadata": {
    "collapsed": false
   },
   "outputs": [
    {
     "data": {
      "text/latex": [
       "$m$"
      ],
      "text/plain": [
       "m"
      ]
     },
     "execution_count": 26,
     "metadata": {
     },
     "output_type": "execute_result"
    }
   ],
   "source": [
    "m = symbols(\"m\")"
   ]
  },
  {
   "cell_type": "code",
   "execution_count": 27,
   "metadata": {
    "collapsed": false,
    "scrolled": true
   },
   "outputs": [
    {
     "data": {
      "text/latex": [
       "$\\left\\{7.323931180248121303426880622259254275817323967033174020674622978250045688496 \\cdot 10^{398}\\right\\}$"
      ],
      "text/plain": [
       "{7.323931180248121303426880622259254275817323967033174020674622978250045688496\n",
       "e+398}"
      ]
     },
     "execution_count": 27,
     "metadata": {
     },
     "output_type": "execute_result"
    }
   ],
   "source": [
    "solveset(Eq(1/sqrt(m) * p^3/8, c1), m)"
   ]
  },
  {
   "cell_type": "code",
   "execution_count": 28,
   "metadata": {
    "collapsed": false
   },
   "outputs": [
    {
     "data": {
      "text/plain": [
       "1.177898043185589553055531667161945677218322597917079305414404134195079850666672e+72"
      ]
     },
     "execution_count": 28,
     "metadata": {
     },
     "output_type": "execute_result"
    }
   ],
   "source": [
    "q1 = p^1/6"
   ]
  },
  {
   "cell_type": "markdown",
   "metadata": {
    "collapsed": false
   },
   "source": [
    "### B-Side SIDH\n",
    "\n",
    "Supersingular Isogeny Diffie-Hellman using Twisted Torsion\n",
    "\n",
    "Uses both the (p+1)-torsion and (p-1)-torsion\n",
    "\n",
    "Making it so that Alice and Bob can work in the torsion corresponding to opposite sets of quadratic twists with no change to the protocol. \n",
    "\n"
   ]
  },
  {
   "cell_type": "markdown",
   "metadata": {
    "collapsed": false
   },
   "source": [
    "### Security of B-Side SIDH\n",
    "\n",
    "Classical*: Delfs-Galbraith $$ O(p^{1/2})$$\n",
    "Quantum*: $$O(p^{1/4})$$\n",
    "\n",
    "- For a level 1 security encryption $$2^{240} < p < 2^{256}$$ "
   ]
  },
  {
   "cell_type": "code",
   "execution_count": 29,
   "metadata": {
    "collapsed": false
   },
   "outputs": [
    {
     "name": "stdout",
     "output_type": "stream",
     "text": [
      "7067388259113537318333190002971674063309935587502475832486424805170479104"
     ]
    }
   ],
   "source": [
    "#lets see how the numbers will be when our p = 2^242 (same as prev)\n",
    "p = BigInt(2)^242\n",
    "print(p)"
   ]
  },
  {
   "cell_type": "code",
   "execution_count": 30,
   "metadata": {
    "collapsed": false
   },
   "outputs": [
    {
     "data": {
      "text/plain": [
       "2.658455991569831745807614120560689152e+36"
      ]
     },
     "execution_count": 30,
     "metadata": {
     },
     "output_type": "execute_result"
    }
   ],
   "source": [
    "c2 = p^.5"
   ]
  },
  {
   "cell_type": "code",
   "execution_count": 31,
   "metadata": {
    "collapsed": false
   },
   "outputs": [
    {
     "data": {
      "text/plain": [
       "1.630477228166597776543696475781563546110409536199107322341509459566896039850323e+18"
      ]
     },
     "execution_count": 31,
     "metadata": {
     },
     "output_type": "execute_result"
    }
   ],
   "source": [
    "q2 = p^.25"
   ]
  },
  {
   "cell_type": "markdown",
   "metadata": {
    "collapsed": false
   },
   "source": [
    "Let's compare numerically the values gotten from both, the numbers are massive so we will be finding the difference to better be able to understand the difference between them"
   ]
  },
  {
   "cell_type": "code",
   "execution_count": 32,
   "metadata": {
    "collapsed": false
   },
   "outputs": [
    {
     "name": "stdout",
     "output_type": "stream",
     "text": [
      "2.658455991569831744177136892394091375456303524218436453889590463800892677658486e+36"
     ]
    }
   ],
   "source": [
    "#Classical\n",
    "print(c2-c1)"
   ]
  },
  {
   "cell_type": "code",
   "execution_count": 33,
   "metadata": {
    "collapsed": false
   },
   "outputs": [
    {
     "name": "stdout",
     "output_type": "stream",
     "text": [
      "-1.177898043185589553055531667161945677218322597917079303783926906028482074122971e+72"
     ]
    }
   ],
   "source": [
    "#Quantum\n",
    "print(q2-q1)"
   ]
  },
  {
   "cell_type": "markdown",
   "metadata": {
    "collapsed": false
   },
   "source": [
    "Important to note that what worked for quantum did not work better for the classic computer and how that might lead to the way in which research is pursued within this field."
   ]
  },
  {
   "cell_type": "markdown",
   "metadata": {
    "collapsed": false
   },
   "source": [
    "### Summary\n",
    "\n",
    "We explored Lattice and Isogeny Cryptography today and saw the fascinating ways in which security is being strengthened. One of the most fascinating things with computer encryption is that just as people go to such lengths to protect information, others will find ways to decrypt and expose that information.\n",
    "\n",
    "While it's not a good idea to decrypt illegally, it is fascinating to see how both push to new mathematical bounds.\n",
    "\n",
    "These topics are still being researched and as such it's hard to know which category of cryptography will end up being the preferred method after more research has been done.\n",
    "\n",
    "That means you can go forward and keep an eye out for new research, or go out there to research and find out for the rest of us! :)"
   ]
  },
  {
   "cell_type": "code",
   "execution_count": 0,
   "metadata": {
    "collapsed": false
   },
   "outputs": [
   ],
   "source": [
   ]
  }
 ],
 "metadata": {
  "kernelspec": {
   "display_name": "Julia 1.7",
   "env": {
    "JULIA_DEPOT_PATH": "/home/user/.julia/:/ext/julia/depot/",
    "JULIA_PROJECT": "/home/user/.julia/environment/v1.7"
   },
   "language": "julia",
   "metadata": {
    "cocalc": {
     "description": "The Julia Programming Language",
     "priority": 1,
     "url": "https://julialang.org/"
    }
   },
   "name": "julia-1.7",
   "resource_dir": "/ext/jupyter/kernels/julia-1.7"
  },
  "language_info": {
   "file_extension": ".jl",
   "mimetype": "application/julia",
   "name": "julia",
   "version": "1.7.2"
  }
 },
 "nbformat": 4,
 "nbformat_minor": 4
}